{
  "nbformat": 4,
  "nbformat_minor": 0,
  "metadata": {
    "colab": {
      "name": "Mnist_by_RNN.ipynb",
      "provenance": [],
      "include_colab_link": true
    },
    "kernelspec": {
      "name": "python3",
      "display_name": "Python 3"
    },
    "accelerator": "GPU"
  },
  "cells": [
    {
      "cell_type": "markdown",
      "metadata": {
        "id": "view-in-github",
        "colab_type": "text"
      },
      "source": [
        "<a href=\"https://colab.research.google.com/github/gn0262487838/DL_note/blob/master/Mnist_by_RNN.ipynb\" target=\"_parent\"><img src=\"https://colab.research.google.com/assets/colab-badge.svg\" alt=\"Open In Colab\"/></a>"
      ]
    },
    {
      "cell_type": "code",
      "metadata": {
        "id": "eFX4d8Fx9PDs",
        "colab_type": "code",
        "colab": {}
      },
      "source": [
        "from tensorflow.keras.layers import SimpleRNN, Activation, Dense\n",
        "from tensorflow.keras.models import Sequential\n",
        "from tensorflow.keras.optimizers import Adam\n",
        "from tensorflow.keras.datasets import mnist\n",
        "from tensorflow.keras.utils import to_categorical, plot_model\n",
        "import numpy as np"
      ],
      "execution_count": 0,
      "outputs": []
    },
    {
      "cell_type": "code",
      "metadata": {
        "id": "M38ykiJw_lIe",
        "colab_type": "code",
        "colab": {}
      },
      "source": [
        "(x_train, y_train), (x_test_origin, y_test_origin) = mnist.load_data()\n",
        "\n",
        "x_train, x_test = x_train / 255.0 , x_test_origin / 255.0\n",
        "y_train, y_test = to_categorical(y_train, num_classes=10), to_categorical(y_test_origin, num_classes=10)"
      ],
      "execution_count": 0,
      "outputs": []
    },
    {
      "cell_type": "code",
      "metadata": {
        "id": "qOoSsB5dAiGh",
        "colab_type": "code",
        "colab": {
          "base_uri": "https://localhost:8080/",
          "height": 255
        },
        "outputId": "6365d7b8-ba8c-40db-85cf-6cb45448eefa"
      },
      "source": [
        "model = Sequential()\n",
        "model.add(\n",
        "    SimpleRNN(batch_input_shape=(None, 28, 28),units=50,unroll=True)\n",
        ")\n",
        "model.add(\n",
        "    Dense(units=10, kernel_initializer=\"normal\")\n",
        ")\n",
        "model.add(\n",
        "    Activation(\"softmax\")\n",
        ")\n",
        "model.compile(\n",
        "    optimizer=Adam(),\n",
        "    loss = \"categorical_crossentropy\",\n",
        "    metrics = [\"accuracy\"]\n",
        ")\n",
        "model.summary()"
      ],
      "execution_count": 83,
      "outputs": [
        {
          "output_type": "stream",
          "text": [
            "Model: \"sequential_5\"\n",
            "_________________________________________________________________\n",
            "Layer (type)                 Output Shape              Param #   \n",
            "=================================================================\n",
            "simple_rnn_5 (SimpleRNN)     (None, 50)                3950      \n",
            "_________________________________________________________________\n",
            "dense_5 (Dense)              (None, 10)                510       \n",
            "_________________________________________________________________\n",
            "activation (Activation)      (None, 10)                0         \n",
            "=================================================================\n",
            "Total params: 4,460\n",
            "Trainable params: 4,460\n",
            "Non-trainable params: 0\n",
            "_________________________________________________________________\n"
          ],
          "name": "stdout"
        }
      ]
    },
    {
      "cell_type": "code",
      "metadata": {
        "id": "uDqSeEOJMYep",
        "colab_type": "code",
        "colab": {
          "base_uri": "https://localhost:8080/",
          "height": 272
        },
        "outputId": "c80d4fda-8770-45d2-c71b-8b3f9981cbfc"
      },
      "source": [
        "plot_model(model)"
      ],
      "execution_count": 64,
      "outputs": [
        {
          "output_type": "execute_result",
          "data": {
            "image/png": "[encoded data removed]",
            "text/plain": [
              "<IPython.core.display.Image object>"
            ]
          },
          "metadata": {
            "tags": []
          },
          "execution_count": 64
        }
      ]
    },
    {
      "cell_type": "code",
      "metadata": {
        "id": "WxLs1EZWI_lZ",
        "colab_type": "code",
        "colab": {
          "base_uri": "https://localhost:8080/",
          "height": 289
        },
        "outputId": "12012b6e-b39b-4e6c-bdab-87f7890ddc7e"
      },
      "source": [
        "BATCH_SIZE = 50\n",
        "BATCH_INDEX = 0\n",
        "for step in range(1, 4001):\n",
        "    # data shape = (batch, step, inputs/outputs)\n",
        "    x_batch = x_train[BATCH_INDEX:BATCH_INDEX+BATCH_SIZE,:,:]\n",
        "    y_batch = y_train[BATCH_INDEX:BATCH_INDEX+BATCH_SIZE,:]\n",
        "\n",
        "    loss = model.train_on_batch(x_batch, y_batch)\n",
        "    BATCH_INDEX += BATCH_SIZE\n",
        "    BATCH_INDEX = 0 if BATCH_INDEX >= x_train.shape[0] else BATCH_INDEX\n",
        "    \n",
        "    if step % 500 == 0:\n",
        "        Eval = model.evaluate(x_test,y_test, batch_size=x_test.shape[0])\n",
        "        print(\"預測值:{}\".format(Eval))"
      ],
      "execution_count": 65,
      "outputs": [
        {
          "output_type": "stream",
          "text": [
            "\r10000/10000 [==============================] - 0s 12us/sample - loss: 0.6605 - acc: 0.7920\n",
            "預測值:[0.660453200340271, 0.792]\n",
            "10000/10000 [==============================] - 0s 2us/sample - loss: 0.5322 - acc: 0.8441\n",
            "預測值:[0.5321829915046692, 0.8441]\n",
            "10000/10000 [==============================] - 0s 2us/sample - loss: 0.4394 - acc: 0.8685\n",
            "預測值:[0.4394392669200897, 0.8685]\n",
            "10000/10000 [==============================] - 0s 2us/sample - loss: 0.3597 - acc: 0.8946\n",
            "預測值:[0.3596779406070709, 0.8946]\n",
            "10000/10000 [==============================] - 0s 2us/sample - loss: 0.3398 - acc: 0.9036\n",
            "預測值:[0.33982035517692566, 0.9036]\n",
            "10000/10000 [==============================] - 0s 2us/sample - loss: 0.2953 - acc: 0.9150\n",
            "預測值:[0.29531827569007874, 0.915]\n",
            "10000/10000 [==============================] - 0s 2us/sample - loss: 0.2676 - acc: 0.9239\n",
            "預測值:[0.2675623595714569, 0.9239]\n",
            "10000/10000 [==============================] - 0s 2us/sample - loss: 0.2873 - acc: 0.9196\n",
            "預測值:[0.28727665543556213, 0.9196]\n"
          ],
          "name": "stdout"
        }
      ]
    },
    {
      "cell_type": "code",
      "metadata": {
        "id": "-igHHZaDW5wI",
        "colab_type": "code",
        "colab": {
          "base_uri": "https://localhost:8080/",
          "height": 51
        },
        "outputId": "19bda744-34d5-4349-d800-0f5d686fba80"
      },
      "source": [
        "X = x_test[0:10,:]\n",
        "predict = model.predict_classes(X)\n",
        "print(\"預測值:\", predict.tolist())\n",
        "print(\"實際值:\", [ i.argmax() for i in y_test[0:10]])"
      ],
      "execution_count": 82,
      "outputs": [
        {
          "output_type": "stream",
          "text": [
            "預測值: [7, 2, 1, 0, 4, 1, 4, 9, 0, 9]\n",
            "實際值: [7, 2, 1, 0, 4, 1, 4, 9, 5, 9]\n"
          ],
          "name": "stdout"
        }
      ]
    },
    {
      "cell_type": "code",
      "metadata": {
        "id": "aX081xLLTA0W",
        "colab_type": "code",
        "colab": {
          "base_uri": "https://localhost:8080/",
          "height": 265
        },
        "outputId": "d7266b3b-6ae7-4e61-c998-7802770071b6"
      },
      "source": [
        "import matplotlib.pyplot as plt\n",
        "plt.imshow(x_test_origin[8], cmap=\"gray\")\n",
        "plt.show()"
      ],
      "execution_count": 78,
      "outputs": [
        {
          "output_type": "display_data",
          "data": {
            "image/png": "[encoded data removed]",
            "text/plain": [
              "<Figure size 432x288 with 1 Axes>"
            ]
          },
          "metadata": {
            "tags": []
          }
        }
      ]
    }
  ]
}