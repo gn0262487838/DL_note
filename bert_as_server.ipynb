from bert_serving.client import BertClient
from sklearn.metrics.pairwise import cosine_similarity

class Encode(object):
    
    def __init__(self):
        self.bc = BertClient()
    
    def encoding(self, query):
        tensor = bc.encode([query])
        return tensor
    
    def query_similarity(self, query_list):
        tensors = self.bc.encode(query_list)
        return cosine_similarity(tensors)
    
if __name__ =="__main__":
    ec = Encode()
    print(ec.encoding("中國").shape)
    print(ec.encoding("美國").shape)
    print("三句話的相似度：", ec.query_similarity(["信用卡繳費期限快到了，要趕緊去繳費。這張信用卡很好用點數回饋讚。", "你看！這裡新開一家游泳池。"]))
