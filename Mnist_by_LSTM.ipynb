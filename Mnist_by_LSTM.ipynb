{
  "nbformat": 4,
  "nbformat_minor": 0,
  "metadata": {
    "colab": {
      "name": "Mnist_by_LSTM.ipynb",
      "provenance": [],
      "collapsed_sections": [],
      "include_colab_link": true
    },
    "kernelspec": {
      "name": "python3",
      "display_name": "Python 3"
    },
    "accelerator": "GPU"
  },
  "cells": [
    {
      "cell_type": "markdown",
      "metadata": {
        "id": "view-in-github",
        "colab_type": "text"
      },
      "source": [
        "<a href=\"https://colab.research.google.com/github/gn0262487838/DL_note/blob/master/Mnist_by_LSTM.ipynb\" target=\"_parent\"><img src=\"https://colab.research.google.com/assets/colab-badge.svg\" alt=\"Open In Colab\"/></a>"
      ]
    },
    {
      "cell_type": "code",
      "metadata": {
        "id": "SQDqOgvqenDl",
        "colab_type": "code",
        "colab": {}
      },
      "source": [
        "from tensorflow.keras.datasets import mnist\n",
        "from tensorflow.keras.models import Sequential\n",
        "from tensorflow.keras.layers import LSTM, Dense, Activation\n",
        "from tensorflow.keras.optimizers import Adam\n",
        "from tensorflow.keras.utils import to_categorical, plot_model\n"
      ],
      "execution_count": 0,
      "outputs": []
    },
    {
      "cell_type": "code",
      "metadata": {
        "id": "PIDp3XTzg0F2",
        "colab_type": "code",
        "colab": {}
      },
      "source": [
        "(x_train,y_train), (x_test, y_test) = mnist.load_data()\n",
        "x_train, x_test = x_train / 255.0, x_test / 255.0\n",
        "y_train, y_test = to_categorical(y_train, num_classes=10), to_categorical(y_test, num_classes=10)"
      ],
      "execution_count": 0,
      "outputs": []
    },
    {
      "cell_type": "code",
      "metadata": {
        "id": "Klsdej0ZhmMp",
        "colab_type": "code",
        "colab": {
          "base_uri": "https://localhost:8080/",
          "height": 255
        },
        "outputId": "dda71070-cda2-4081-b2a3-f1d0fb1c87d6"
      },
      "source": [
        "model = Sequential()\n",
        "model.add(\n",
        "    LSTM(units=50, unroll=True, input_shape=(28, 28))\n",
        ")\n",
        "model.add(\n",
        "    Dense(units=10)\n",
        ")\n",
        "model.add(\n",
        "    Activation(\"softmax\")\n",
        ")\n",
        "model.compile(\n",
        "    optimizer = Adam(),\n",
        "    loss = \"categorical_crossentropy\",\n",
        "    metrics = [\"accuracy\"]\n",
        ")\n",
        "model.summary()"
      ],
      "execution_count": 37,
      "outputs": [
        {
          "output_type": "stream",
          "text": [
            "Model: \"sequential_7\"\n",
            "_________________________________________________________________\n",
            "Layer (type)                 Output Shape              Param #   \n",
            "=================================================================\n",
            "lstm_7 (LSTM)                (None, 50)                15800     \n",
            "_________________________________________________________________\n",
            "dense_6 (Dense)              (None, 10)                510       \n",
            "_________________________________________________________________\n",
            "activation_4 (Activation)    (None, 10)                0         \n",
            "=================================================================\n",
            "Total params: 16,310\n",
            "Trainable params: 16,310\n",
            "Non-trainable params: 0\n",
            "_________________________________________________________________\n"
          ],
          "name": "stdout"
        }
      ]
    },
    {
      "cell_type": "code",
      "metadata": {
        "id": "wuCAnDdpjrJf",
        "colab_type": "code",
        "colab": {
          "base_uri": "https://localhost:8080/",
          "height": 369
        },
        "outputId": "edabdfd3-7ace-4270-ec7f-f7963ffce4a9"
      },
      "source": [
        "plot_model(model)"
      ],
      "execution_count": 38,
      "outputs": [
        {
          "output_type": "execute_result",
          "data": {
            "image/png": "[encoded data removed]",
            "text/plain": [
              "<IPython.core.display.Image object>"
            ]
          },
          "metadata": {
            "tags": []
          },
          "execution_count": 38
        }
      ]
    },
    {
      "cell_type": "code",
      "metadata": {
        "id": "uvdVo3OIj0rc",
        "colab_type": "code",
        "colab": {
          "base_uri": "https://localhost:8080/",
          "height": 34
        },
        "outputId": "02b5fa20-5ceb-4278-a9d5-bf65a3a2ed49"
      },
      "source": [
        "BATCH_SIZE = 50\n",
        "BATCH_START = 0\n",
        "for step in range(1, 1201):\n",
        "    # data shape = (batch, timestep, input_dim)\n",
        "    x_train[BATCH_START:BATCH_START + BATCJ_SIZE,:,:]\n",
        "    y_train[BATCH_START:BATCH_START + BATCJ_SIZE,:]\n",
        "\n",
        "    lost = model.train_on_batch(x_train, y_train)\n",
        "    BATCH_START += BATCH_SIZE\n",
        "    BATCH_START = 0 if BATCH_START >= x_train.shape[0] else BATCH_START\n",
        "    \n",
        "    if step % 600 == 0:\n",
        "        loss, acc = model.evaluate(x_test, y_test, batch_size=32, verbose=1)\n",
        "        if acc > 0.95:\n",
        "            break\n"
      ],
      "execution_count": 39,
      "outputs": [
        {
          "output_type": "stream",
          "text": [
            "10000/10000 [==============================] - 7s 688us/sample - loss: 0.0974 - acc: 0.9730\n"
          ],
          "name": "stdout"
        }
      ]
    },
    {
      "cell_type": "code",
      "metadata": {
        "id": "K9ZoNQOKkMyA",
        "colab_type": "code",
        "colab": {
          "base_uri": "https://localhost:8080/",
          "height": 51
        },
        "outputId": "a3118c6c-9d38-49bb-ba6f-f3fc01ed158a"
      },
      "source": [
        "test_set = x_test[:10,:,:]\n",
        "pred = model.predict_classes(test_set)\n",
        "print(\"預測:\", pred.tolist())\n",
        "print(\"實際:\", [ i.argmax() for i in y_test[:10,:]])"
      ],
      "execution_count": 40,
      "outputs": [
        {
          "output_type": "stream",
          "text": [
            "預測: [7, 2, 1, 0, 4, 1, 4, 9, 5, 9]\n",
            "實際: [7, 2, 1, 0, 4, 1, 4, 9, 5, 9]\n"
          ],
          "name": "stdout"
        }
      ]
    },
    {
      "cell_type": "code",
      "metadata": {
        "id": "fY4YZ7P-thZM",
        "colab_type": "code",
        "colab": {
          "base_uri": "https://localhost:8080/",
          "height": 248
        },
        "outputId": "15cb2f26-3445-45ce-8a66-7c7b2a1c4076"
      },
      "source": [
        "import matplotlib.pyplot as plt\n",
        "plt.imshow(x_test[8], cmap=\"gray\")\n",
        "plt.axis(\"off\")\n",
        "plt.show()"
      ],
      "execution_count": 41,
      "outputs": [
        {
          "output_type": "display_data",
          "data": {
            "image/png": "[encoded data removed]",
            "text/plain": [
              "<Figure size 432x288 with 1 Axes>"
            ]
          },
          "metadata": {
            "tags": []
          }
        }
      ]
    }
  ]
}