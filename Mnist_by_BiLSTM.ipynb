{
  "nbformat": 4,
  "nbformat_minor": 0,
  "metadata": {
    "colab": {
      "name": "Mnist_by_BiLSTM.ipynb",
      "provenance": [],
      "collapsed_sections": [],
      "include_colab_link": true
    },
    "kernelspec": {
      "name": "python3",
      "display_name": "Python 3"
    },
    "accelerator": "GPU"
  },
  "cells": [
    {
      "cell_type": "markdown",
      "metadata": {
        "id": "view-in-github",
        "colab_type": "text"
      },
      "source": [
        "<a href=\"https://colab.research.google.com/github/gn0262487838/DL_note/blob/master/Mnist_by_BiLSTM.ipynb\" target=\"_parent\"><img src=\"https://colab.research.google.com/assets/colab-badge.svg\" alt=\"Open In Colab\"/></a>"
      ]
    },
    {
      "cell_type": "code",
      "metadata": {
        "id": "SQDqOgvqenDl",
        "colab_type": "code",
        "colab": {}
      },
      "source": [
        "from tensorflow.keras.datasets import mnist\n",
        "from tensorflow.keras.models import Sequential\n",
        "from tensorflow.keras.layers import LSTM, Dense, Activation, Bidirectional\n",
        "from tensorflow.keras.optimizers import Adam\n",
        "from tensorflow.keras.utils import to_categorical, plot_model\n"
      ],
      "execution_count": 0,
      "outputs": []
    },
    {
      "cell_type": "code",
      "metadata": {
        "id": "PIDp3XTzg0F2",
        "colab_type": "code",
        "colab": {
          "base_uri": "https://localhost:8080/",
          "height": 51
        },
        "outputId": "0e1a93b7-59a3-47e9-d55f-9ea96f241471"
      },
      "source": [
        "(x_train,y_train), (x_test, y_test) = mnist.load_data()\n",
        "x_train, x_test = x_train / 255.0, x_test / 255.0\n",
        "y_train, y_test = to_categorical(y_train, num_classes=10), to_categorical(y_test, num_classes=10)"
      ],
      "execution_count": 2,
      "outputs": [
        {
          "output_type": "stream",
          "text": [
            "Downloading data from https://storage.googleapis.com/tensorflow/tf-keras-datasets/mnist.npz\n",
            "11493376/11490434 [==============================] - 0s 0us/step\n"
          ],
          "name": "stdout"
        }
      ]
    },
    {
      "cell_type": "code",
      "metadata": {
        "id": "Klsdej0ZhmMp",
        "colab_type": "code",
        "colab": {
          "base_uri": "https://localhost:8080/",
          "height": 326
        },
        "outputId": "30b924cc-5d2d-45a3-86e5-b92631a0bc57"
      },
      "source": [
        "model = Sequential()\n",
        "model.add(\n",
        "    Bidirectional(LSTM(units=50, unroll=True), input_shape=(28, 28),)\n",
        ")\n",
        "model.add(\n",
        "    Dense(units=10)\n",
        ")\n",
        "model.add(\n",
        "    Activation(\"softmax\")\n",
        ")\n",
        "model.compile(\n",
        "    optimizer = Adam(),\n",
        "    loss = \"categorical_crossentropy\",\n",
        "    metrics = [\"accuracy\"]\n",
        ")\n",
        "model.summary()"
      ],
      "execution_count": 5,
      "outputs": [
        {
          "output_type": "stream",
          "text": [
            "WARNING:tensorflow:From /usr/local/lib/python3.6/dist-packages/tensorflow_core/python/ops/resource_variable_ops.py:1630: calling BaseResourceVariable.__init__ (from tensorflow.python.ops.resource_variable_ops) with constraint is deprecated and will be removed in a future version.\n",
            "Instructions for updating:\n",
            "If using Keras pass *_constraint arguments to layers.\n",
            "Model: \"sequential_1\"\n",
            "_________________________________________________________________\n",
            "Layer (type)                 Output Shape              Param #   \n",
            "=================================================================\n",
            "bidirectional_1 (Bidirection (None, 100)               31600     \n",
            "_________________________________________________________________\n",
            "dense_1 (Dense)              (None, 10)                1010      \n",
            "_________________________________________________________________\n",
            "activation_1 (Activation)    (None, 10)                0         \n",
            "=================================================================\n",
            "Total params: 32,610\n",
            "Trainable params: 32,610\n",
            "Non-trainable params: 0\n",
            "_________________________________________________________________\n"
          ],
          "name": "stdout"
        }
      ]
    },
    {
      "cell_type": "code",
      "metadata": {
        "id": "wuCAnDdpjrJf",
        "colab_type": "code",
        "colab": {
          "base_uri": "https://localhost:8080/",
          "height": 369
        },
        "outputId": "74c2d4b6-2237-4fa7-b3ea-2a0954304822"
      },
      "source": [
        "plot_model(model)"
      ],
      "execution_count": 6,
      "outputs": [
        {
          "output_type": "execute_result",
          "data": {
            "image/png": "[encoded data removed]",
            "text/plain": [
              "<IPython.core.display.Image object>"
            ]
          },
          "metadata": {
            "tags": []
          },
          "execution_count": 6
        }
      ]
    },
    {
      "cell_type": "code",
      "metadata": {
        "id": "uvdVo3OIj0rc",
        "colab_type": "code",
        "colab": {
          "base_uri": "https://localhost:8080/",
          "height": 105
        },
        "outputId": "a657d0eb-d1ac-4c04-f575-ffa980187642"
      },
      "source": [
        "BATCH_SIZE = 50\n",
        "BATCH_START = 0\n",
        "for step in range(1, 1201):\n",
        "    # data shape = (batch, timestep, input_dim)\n",
        "    x_train[BATCH_START:BATCH_START + BATCH_SIZE,:,:]\n",
        "    y_train[BATCH_START:BATCH_START + BATCH_SIZE,:]\n",
        "\n",
        "    lost = model.train_on_batch(x_train, y_train)\n",
        "    BATCH_START += BATCH_SIZE\n",
        "    BATCH_START = 0 if BATCH_START >= x_train.shape[0] else BATCH_START\n",
        "    \n",
        "    if step % 600 == 0:\n",
        "        loss, acc = model.evaluate(x_test, y_test, batch_size=32, verbose=1)\n",
        "        if acc > 0.95:\n",
        "            break\n"
      ],
      "execution_count": 8,
      "outputs": [
        {
          "output_type": "stream",
          "text": [
            "WARNING:tensorflow:From /usr/local/lib/python3.6/dist-packages/tensorflow_core/python/ops/math_grad.py:1424: where (from tensorflow.python.ops.array_ops) is deprecated and will be removed in a future version.\n",
            "Instructions for updating:\n",
            "Use tf.where in 2.0, which has the same broadcast rule as np.where\n",
            "10000/10000 [==============================] - 6s 585us/sample - loss: 0.0735 - acc: 0.9785\n"
          ],
          "name": "stdout"
        }
      ]
    },
    {
      "cell_type": "code",
      "metadata": {
        "id": "K9ZoNQOKkMyA",
        "colab_type": "code",
        "colab": {
          "base_uri": "https://localhost:8080/",
          "height": 51
        },
        "outputId": "2d9b10de-f879-4727-969c-e930833575a5"
      },
      "source": [
        "test_set = x_test[:10,:,:]\n",
        "pred = model.predict_classes(test_set)\n",
        "print(\"預測:\", pred.tolist())\n",
        "print(\"實際:\", [ i.argmax() for i in y_test[:10,:]])"
      ],
      "execution_count": 9,
      "outputs": [
        {
          "output_type": "stream",
          "text": [
            "預測: [7, 2, 1, 0, 4, 1, 4, 9, 6, 9]\n",
            "實際: [7, 2, 1, 0, 4, 1, 4, 9, 5, 9]\n"
          ],
          "name": "stdout"
        }
      ]
    },
    {
      "cell_type": "code",
      "metadata": {
        "id": "fY4YZ7P-thZM",
        "colab_type": "code",
        "colab": {
          "base_uri": "https://localhost:8080/",
          "height": 248
        },
        "outputId": "bb2917c6-91c6-4a39-f550-a7713eb549a8"
      },
      "source": [
        "import matplotlib.pyplot as plt\n",
        "plt.imshow(x_test[8], cmap=\"gray\")\n",
        "plt.axis(\"off\")\n",
        "plt.show()"
      ],
      "execution_count": 10,
      "outputs": [
        {
          "output_type": "display_data",
          "data": {
            "image/png": "[encoded data removed]",
            "text/plain": [
              "<Figure size 432x288 with 1 Axes>"
            ]
          },
          "metadata": {
            "tags": []
          }
        }
      ]
    }
  ]
}