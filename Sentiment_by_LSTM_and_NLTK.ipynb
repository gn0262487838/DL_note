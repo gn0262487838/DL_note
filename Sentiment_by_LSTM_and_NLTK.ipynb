{
  "nbformat": 4,
  "nbformat_minor": 0,
  "metadata": {
    "colab": {
      "name": "Sentiment_by_LSTM_and_NLTK.ipynb",
      "provenance": [],
      "collapsed_sections": [],
      "include_colab_link": true
    },
    "kernelspec": {
      "name": "python3",
      "display_name": "Python 3"
    },
    "accelerator": "GPU"
  },
  "cells": [
    {
      "cell_type": "markdown",
      "metadata": {
        "id": "view-in-github",
        "colab_type": "text"
      },
      "source": [
        "<a href=\"https://colab.research.google.com/github/gn0262487838/DL_note/blob/master/Sentiment_by_LSTM_and_NLTK.ipynb\" target=\"_parent\"><img src=\"https://colab.research.google.com/assets/colab-badge.svg\" alt=\"Open In Colab\"/></a>"
      ]
    },
    {
      "cell_type": "code",
      "metadata": {
        "id": "lxWEZpAVMZCd",
        "colab_type": "code",
        "colab": {
          "base_uri": "https://localhost:8080/",
          "height": 102
        },
        "outputId": "16dd9af4-16db-4c28-e70f-c54c7dda3060"
      },
      "source": [
        "'''\n",
        "data from https://inclass.kaggle.com/c/si650winter11\n",
        "作為練習\n",
        "\n",
        "'''\n",
        "! pip install -U nltk\n",
        "nltk.download(\"punkt\")"
      ],
      "execution_count": 9,
      "outputs": [
        {
          "output_type": "stream",
          "text": [
            "Requirement already up-to-date: nltk in /usr/local/lib/python3.6/dist-packages (3.4.5)\n",
            "Requirement already satisfied, skipping upgrade: six in /usr/local/lib/python3.6/dist-packages (from nltk) (1.12.0)\n"
          ],
          "name": "stdout"
        },
        {
          "output_type": "stream",
          "text": [
            "[nltk_data] Downloading package punkt to /root/nltk_data...\n",
            "[nltk_data]   Unzipping tokenizers/punkt.zip.\n"
          ],
          "name": "stderr"
        },
        {
          "output_type": "execute_result",
          "data": {
            "text/plain": [
              "True"
            ]
          },
          "metadata": {
            "tags": []
          },
          "execution_count": 9
        }
      ]
    },
    {
      "cell_type": "code",
      "metadata": {
        "id": "UEonNE1wK29L",
        "colab_type": "code",
        "colab": {}
      },
      "source": [
        "from tensorflow.keras.models import Sequential\n",
        "from tensorflow.keras.layers import Embedding, LSTM, Dense\n",
        "from tensorflow.keras.optimizers import Adam\n",
        "from tensorflow.keras.utils import plot_model\n",
        "from tensorflow.keras.preprocessing.sequence import pad_sequences\n",
        "import nltk\n",
        "import collections"
      ],
      "execution_count": 0,
      "outputs": []
    },
    {
      "cell_type": "code",
      "metadata": {
        "id": "NzdmWQy1Muj9",
        "colab_type": "code",
        "colab": {
          "base_uri": "https://localhost:8080/",
          "height": 68
        },
        "outputId": "55d0ed9e-41f9-4a6e-8945-fce90640dfaf"
      },
      "source": [
        "# parameter\n",
        "VOCAB_SIZE = 2000 + 2\n",
        "SENTENCE_MAX_LEN = 40\n",
        "EMBEDDING_SIZE = 256\n",
        "HIDDEN_SIZE = 128\n",
        "LABEL_SIZE = 1\n",
        "LR = 0.001\n",
        "\n",
        "# preprocessing : data\n",
        "maxlen = 0\n",
        "sentence_nums = 0\n",
        "vocab = collections.Counter()\n",
        "with open(\"./training.txt\", \"r\", encoding=\"UTF-8\") as f:\n",
        "    for line in f:\n",
        "        label, sentence = line.strip().split(\"\\t\")\n",
        "        words = nltk.word_tokenize(sentence.lower())\n",
        "\n",
        "        maxlen = len(words) if len(words) > maxlen else maxlen\n",
        "            \n",
        "        # freq word\n",
        "        for word in words:\n",
        "            if not word in vocab:\n",
        "                vocab[word] = 1\n",
        "            elif word in vocab:\n",
        "                vocab[word] += 1\n",
        "        sentence_nums += 1\n",
        "\n",
        "word2num = { v[0]:k+2 for k, v in enumerate(vocab.most_common(VOCAB_SIZE if VOCAB_SIZE < len(vocab) else len(vocab)))}\n",
        "word2num[\"pad\"], word2num[\"unk\"] = 0, 1\n",
        "num2word = { k:v for v, k in word2num.items()}\n",
        "\n",
        "print(f\"最長句子的長度:{maxlen:}\")\n",
        "print(f\"字典厚度:{len(vocab):}\")\n",
        "print(f\"總共有幾句話:{sentence_nums:}\")"
      ],
      "execution_count": 77,
      "outputs": [
        {
          "output_type": "stream",
          "text": [
            "最長句子的長度:42\n",
            "字典厚度:2326\n",
            "總共有幾句話:7086\n"
          ],
          "name": "stdout"
        }
      ]
    },
    {
      "cell_type": "code",
      "metadata": {
        "id": "lSTou0kVjCgn",
        "colab_type": "code",
        "colab": {}
      },
      "source": [
        "import numpy as np\n",
        "x_train = np.empty(sentence_nums, dtype=list)\n",
        "y_train = np.empty(sentence_nums, dtype=int)\n",
        "\n",
        "with open(\"./training.txt\", \"r\", encoding=\"UTF-8\") as f :\n",
        "    idx = 0\n",
        "    for line in f:\n",
        "        label, sentence = line.strip().split(\"\\t\")\n",
        "        words = nltk.word_tokenize(sentence.lower())\n",
        "        \n",
        "        # 轉換每一個句子成為數字\n",
        "        seq = []\n",
        "        for word in words:\n",
        "            if word in word2num:\n",
        "                seq.append(word2num[word])\n",
        "            else:\n",
        "                seq.append(word2num[\"unk\"])\n",
        "        x_train[idx] = seq\n",
        "        y_train[idx] = int(label)\n",
        "        idx += 1\n",
        "\n",
        "# 補0\n",
        "x_train = pad_sequences(x_train, maxlen=SENTENCE_MAX_LEN)"
      ],
      "execution_count": 0,
      "outputs": []
    },
    {
      "cell_type": "code",
      "metadata": {
        "id": "opImYmztnYeI",
        "colab_type": "code",
        "colab": {
          "base_uri": "https://localhost:8080/",
          "height": 187
        },
        "outputId": "6bee5704-c265-4ee1-fa55-fd0acaa6153e"
      },
      "source": [
        "print(\"訓練資料長這樣:\\n\", x_train)\n",
        "print(\"答案長這樣:\\n\", y_train)"
      ],
      "execution_count": 79,
      "outputs": [
        {
          "output_type": "stream",
          "text": [
            "訓練資料長這樣:\n",
            " [[  0   0   0 ...  48  22   4]\n",
            " [  0   0   0 ... 341  67   4]\n",
            " [  0   0   0 ...  18 325   4]\n",
            " ...\n",
            " [  0   0   0 ...  11  13   4]\n",
            " [  0   0   0 ... 127  26   4]\n",
            " [  0   0   0 ...  87  26   4]]\n",
            "答案長這樣:\n",
            " [1 1 1 ... 0 0 0]\n"
          ],
          "name": "stdout"
        }
      ]
    },
    {
      "cell_type": "code",
      "metadata": {
        "id": "EvPphuABp11G",
        "colab_type": "code",
        "colab": {}
      },
      "source": [
        "from sklearn.model_selection import train_test_split\n",
        "X_train, X_test, Y_train, Y_test = train_test_split(x_train, y_train, test_size=0.2)\n"
      ],
      "execution_count": 0,
      "outputs": []
    },
    {
      "cell_type": "code",
      "metadata": {
        "id": "hd_YXLO9qipf",
        "colab_type": "code",
        "colab": {
          "base_uri": "https://localhost:8080/",
          "height": 326
        },
        "outputId": "cdc7e5aa-a838-47bf-be6d-b867c2c373e6"
      },
      "source": [
        "model = Sequential()\n",
        "model.add(\n",
        "    Embedding(input_dim=VOCAB_SIZE, output_dim=EMBEDDING_SIZE, input_length=SENTENCE_MAX_LEN)\n",
        ")\n",
        "model.add(\n",
        "    LSTM(units=HIDDEN_SIZE, dropout=0.2, recurrent_dropout=0.1)\n",
        ")\n",
        "model.add(\n",
        "    Dense(units=LABEL_SIZE, activation=\"sigmoid\")\n",
        ")\n",
        "model.compile(\n",
        "    optimizer = Adam(learning_rate=LR),\n",
        "    loss = \"binary_crossentropy\",\n",
        "    metrics = [\"accuracy\"]\n",
        ")\n",
        "model.summary()"
      ],
      "execution_count": 81,
      "outputs": [
        {
          "output_type": "stream",
          "text": [
            "WARNING:tensorflow:From /usr/local/lib/python3.6/dist-packages/tensorflow_core/python/ops/nn_impl.py:183: where (from tensorflow.python.ops.array_ops) is deprecated and will be removed in a future version.\n",
            "Instructions for updating:\n",
            "Use tf.where in 2.0, which has the same broadcast rule as np.where\n",
            "Model: \"sequential_1\"\n",
            "_________________________________________________________________\n",
            "Layer (type)                 Output Shape              Param #   \n",
            "=================================================================\n",
            "embedding_1 (Embedding)      (None, 40, 256)           512512    \n",
            "_________________________________________________________________\n",
            "lstm_1 (LSTM)                (None, 128)               197120    \n",
            "_________________________________________________________________\n",
            "dense (Dense)                (None, 1)                 129       \n",
            "=================================================================\n",
            "Total params: 709,761\n",
            "Trainable params: 709,761\n",
            "Non-trainable params: 0\n",
            "_________________________________________________________________\n"
          ],
          "name": "stdout"
        }
      ]
    },
    {
      "cell_type": "code",
      "metadata": {
        "id": "9Dd-gFDTtOGb",
        "colab_type": "code",
        "colab": {
          "base_uri": "https://localhost:8080/",
          "height": 369
        },
        "outputId": "ee7f8c4c-c516-4911-feb2-625e409a1e6d"
      },
      "source": [
        "plot_model(model)"
      ],
      "execution_count": 82,
      "outputs": [
        {
          "output_type": "execute_result",
          "data": {
            "image/png": "[encoded data removed]",
            "text/plain": [
              "<IPython.core.display.Image object>"
            ]
          },
          "metadata": {
            "tags": []
          },
          "execution_count": 82
        }
      ]
    },
    {
      "cell_type": "code",
      "metadata": {
        "id": "UW0A1WCotRvs",
        "colab_type": "code",
        "colab": {
          "base_uri": "https://localhost:8080/",
          "height": 391
        },
        "outputId": "fc4bcd71-65ab-4bfa-d184-b4c3f0d9c7c9"
      },
      "source": [
        "from tensorflow.keras.callbacks  import EarlyStopping, ModelCheckpoint\n",
        "model.fit(X_train, Y_train, batch_size=200, epochs=10, validation_data=(X_test, Y_test),\n",
        "        callbacks=[\n",
        "                EarlyStopping(monitor=\"val_loss\", min_delta=0.01, patience=5, restore_best_weights=True),\n",
        "                ModelCheckpoint(\"./\", monitor=\"val_loss\", mode=\"auto\", save_weights_only=True)\n",
        "        ]\n",
        "        )"
      ],
      "execution_count": 86,
      "outputs": [
        {
          "output_type": "stream",
          "text": [
            "Train on 5668 samples, validate on 1418 samples\n",
            "Epoch 1/10\n",
            "5668/5668 [==============================] - 3s 574us/sample - loss: 0.4901 - acc: 0.7652 - val_loss: 0.2176 - val_acc: 0.9386\n",
            "Epoch 2/10\n",
            "5668/5668 [==============================] - 2s 334us/sample - loss: 0.1142 - acc: 0.9697 - val_loss: 0.0797 - val_acc: 0.9767\n",
            "Epoch 3/10\n",
            "5668/5668 [==============================] - 2s 333us/sample - loss: 0.0362 - acc: 0.9926 - val_loss: 0.0477 - val_acc: 0.9852\n",
            "Epoch 4/10\n",
            "5668/5668 [==============================] - 2s 348us/sample - loss: 0.0113 - acc: 0.9975 - val_loss: 0.0521 - val_acc: 0.9901\n",
            "Epoch 5/10\n",
            "5668/5668 [==============================] - 2s 335us/sample - loss: 0.0059 - acc: 0.9991 - val_loss: 0.0373 - val_acc: 0.9880\n",
            "Epoch 6/10\n",
            "5668/5668 [==============================] - 2s 335us/sample - loss: 0.0022 - acc: 1.0000 - val_loss: 0.0639 - val_acc: 0.9859\n",
            "Epoch 7/10\n",
            "5668/5668 [==============================] - 2s 341us/sample - loss: 0.0013 - acc: 1.0000 - val_loss: 0.0611 - val_acc: 0.9866\n",
            "Epoch 8/10\n",
            "5668/5668 [==============================] - 2s 351us/sample - loss: 9.3491e-04 - acc: 1.0000 - val_loss: 0.0604 - val_acc: 0.9873\n",
            "Epoch 9/10\n",
            "5668/5668 [==============================] - 2s 329us/sample - loss: 7.5712e-04 - acc: 1.0000 - val_loss: 0.0472 - val_acc: 0.9880\n",
            "Epoch 10/10\n",
            "5668/5668 [==============================] - 2s 352us/sample - loss: 5.7865e-04 - acc: 1.0000 - val_loss: 0.0668 - val_acc: 0.9859\n"
          ],
          "name": "stdout"
        },
        {
          "output_type": "execute_result",
          "data": {
            "text/plain": [
              "<tensorflow.python.keras.callbacks.History at 0x7ffa73cfa0f0>"
            ]
          },
          "metadata": {
            "tags": []
          },
          "execution_count": 86
        }
      ]
    },
    {
      "cell_type": "code",
      "metadata": {
        "id": "RVcp7YtGvgue",
        "colab_type": "code",
        "colab": {
          "base_uri": "https://localhost:8080/",
          "height": 51
        },
        "outputId": "e0b842e9-103a-4172-fcb4-48df2fb85ffe"
      },
      "source": [
        "model.evaluate(x_train, y_train, batch_size=32)"
      ],
      "execution_count": 94,
      "outputs": [
        {
          "output_type": "stream",
          "text": [
            "7086/7086 [==============================] - 3s 470us/sample - loss: 0.0096 - acc: 0.9976\n"
          ],
          "name": "stdout"
        },
        {
          "output_type": "execute_result",
          "data": {
            "text/plain": [
              "[0.009647301147709517, 0.9976009]"
            ]
          },
          "metadata": {
            "tags": []
          },
          "execution_count": 94
        }
      ]
    }
  ]
}